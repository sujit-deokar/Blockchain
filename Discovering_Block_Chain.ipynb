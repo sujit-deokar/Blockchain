{
 "cells": [
  {
   "cell_type": "markdown",
   "metadata": {},
   "source": [
    "# Block Chain for Business – An Introduction to HyperLedger Technologies\n"
   ]
  },
  {
   "cell_type": "markdown",
   "metadata": {},
   "source": [
    "## Notes"
   ]
  },
  {
   "cell_type": "markdown",
   "metadata": {},
   "source": [
    "### Distributed Ledger Technology (DLT)\n"
   ]
  },
  {
   "cell_type": "markdown",
   "metadata": {},
   "source": [
    "**A distributed ledger** is a type of data structure which resides across multiple computer devices, generally spread across locations or regions.\n",
    "\n",
    "    1. A data model that captures the current state of the ledger\n",
    "    2. A language of transactions that changes the ledger state\n",
    "    3. A protocol used to build consensus among participants around which transactions will be accepted, and in what order, by the ledger.\n"
   ]
  },
  {
   "cell_type": "markdown",
   "metadata": {},
   "source": [
    "**Robert, what is blockchain technology?**\n",
    "\n",
    "\n",
    "A blockchain is a peer-to-peer distributed ledger, forged by consensus, combined with a system for smart contracts and other assistive technologies.\n"
   ]
  },
  {
   "cell_type": "markdown",
   "metadata": {},
   "source": [
    "Can you give an example of a blockchain which has been in production since a few years?\n",
    "\n",
    "    The blockchain then tracks various assets, other than cryptocurrencies, such as Bitcoin.\n",
    "    Those transactions are grouped into blocks, and there can be any number of transactions per block.\n",
    "   **Turns out, nodes or machines on a blockchain network group up these transactions and they send them throughout the network.**\n",
    "  \n",
    "    The process of blockchains syncing up have to do with a concept of consensus - an agreement among the network peers.So, eventually, each machine has an exact copy of the blockchain throughout the network."
   ]
  },
  {
   "cell_type": "markdown",
   "metadata": {},
   "source": [
    "**What is Block Chain?**\n",
    "\n",
    "    \"A blockchain is a peer-to-peer distributed ledger forged by consensus, combined with a system for \"smart contracts\" and other assistive technologies\".\n",
    "    Smart contracts are simply computer programs that execute predefined actions when certain conditions within the system are met.\n",
    "    Consensus refers to a system of ensuring that parties agree to a certain state of the system as the true state."
   ]
  },
  {
   "cell_type": "markdown",
   "metadata": {},
   "source": [
    "**What is Transaction?**\n",
    "\n",
    "    The record of an event, cryptographically secured with a digital signature, that is verified, ordered, and bundled together into blocks, form the transactions in the blockchain.\n",
    "    \n",
    "    Furthermore, a smart contract within the blockchain may allow automatic execution of transactions upon meeting predefined criteria.\n",
    "\n",
    "    Cryptography has a key role to play both in the security, as well as in the immutability of the transactions recorded on blockchains. Cryptography is the study of the techniques used to allow secure communication between different parties and to ensure the authenticity and immutability of the data being communicated. \n",
    "    \n",
    "    For blockchain technologies, cryptography is used to prove that a transaction was created by the right person. It is also used to link transactions into a block in a tamper-proof way, as well as create the links between blocks, to form a blockchain."
   ]
  },
  {
   "cell_type": "markdown",
   "metadata": {},
   "source": [
    "**Differences Between Blockchains and Databases**\n",
    "\n",
    "**Blockchain technology has some key differentiators from databases.**\n",
    "\n",
    "A **blockchain** is a write-only data structure, where new entries get appended onto the end of the ledger. Every new block gets appended to the block chain by linking to the previous block's \"hash\" (you can check the Glossary tab for a refresher on hash functions). There are no administrator permissions within a blockchain that allow editing or deleting of data.\n",
    "\n",
    "In a **relational database**, data can be easily modified or deleted. Typically, there are database administrators who may make changes to any part of the data and/or its structure. Additionally, blockchains were designed for decentralized applications, whereas relational databases, in general, were originally designed for centralized applications, where a single entity controls the data."
   ]
  },
  {
   "cell_type": "markdown",
   "metadata": {},
   "source": [
    "<img src = 'Centralized_Databases_vs_Blockchain.png' /> ![](Centralized_Databases_vs_Blockchain.png)"
   ]
  },
  {
   "cell_type": "markdown",
   "metadata": {},
   "source": [
    "**Types of Blockchains**"
   ]
  },
  {
   "cell_type": "markdown",
   "metadata": {},
   "source": [
    "A blockchain can be both permissionless (like Bitcoin or Ethereum) or permissioned (like the different Hyperledger blockchain frameworks). A permissionless blockchain is also known as a public blockchain, because anyone can join the network. A permissioned blockchain, or private blockchain, requires pre-verification of the participating parties within the network, and these parties are usually known to each other."
   ]
  },
  {
   "cell_type": "markdown",
   "metadata": {},
   "source": [
    "<img src = \"https://prod-edxapp.edx-cdn.org/assets/courseware/v1/4c3c4fb5206767b4fe0a5b9aaa201ed3/asset-v1:LinuxFoundationX+LFS171x+3T2018+type@asset+block/Types_of_Blockchains.png\" /> ![](https://prod-edxapp.edx-cdn.org/assets/courseware/v1/4c3c4fb5206767b4fe0a5b9aaa201ed3/asset-v1:LinuxFoundationX+LFS171x+3T2018+type@asset+block/Types_of_Blockchains.png)"
   ]
  },
  {
   "cell_type": "markdown",
   "metadata": {},
   "source": [
    "**What is Peer-to-Peer Network Architecture?**\n",
    "\n",
    "    Peer-to-peer (P2P) networks were first made popular by Napster (and later BitTorrent) and consist of computer systems which are directly connected to each other via the Internet, without a central server. Peers contribute to the computing power and storage that is required for the upkeep of the network.\n",
    "    \n",
    "    Permissionless P2P systems do not require a set amount of peers to be online and are generally slower. Permissioned P2P networks have to guarantee uptime and require a high level of quality of service on the communication links.\n",
    "    \n",
    "<img src = \"https://prod-edxapp.edx-cdn.org/assets/courseware/v1/99e70ee58cba3930923df89a997e65be/asset-v1:LinuxFoundationX+LFS171x+3T2018+type@asset+block/Network_Architectures.png\" />"
   ]
  },
  {
   "cell_type": "markdown",
   "metadata": {},
   "source": [
    "**What are advantages of Immutability of Data in Block Chain?**\n",
    "\n",
    "    Let's dig into this statement a bit further. It is extremely hard to change the transactions in a blockchain, because each block is linked to the previous block by including the previous block's hash. This hash includes the Merkle root hash of all the transactions in the previous block. If a single transaction were to change, not only would the Merkle root hash change, but so too would the hash contained in the changed block. In addition, each subsequent block would need to be updated to reflect this change. \n",
    "    \n",
    "    \n",
    "Let's look at an example of how this works. In the following diagram, we see the original blocks and the transactions for Block 11. Specifically, we see that the Merkle root for the transactions in Block 11 is **Hash #ABCD**, which is the combined hash for the four transactions in this block. Now, let's say that someone comes in and attempts to change Transaction A to Transaction A'. This, in turn, modifies the hashes that are stored in the Merkle tree, and the Merkle root changes to **Hash #A'BCD**. In addition, the Previous Block hash stored in Block 12 also needs to be modified to reflect the overall change in the hash for Block 11.\n",
    "\n",
    "\n",
    "<img src = \"BLOCKCHAIN_IMMUTABILITY.png\" />"
   ]
  },
  {
   "cell_type": "markdown",
   "metadata": {},
   "source": [
    "**Application of Block Chain: Smart Contract**\n",
    "    \n",
    "   <img src = \"Blockchain_and_Smar_Contracts_-_Flow_Diagram.png\" /> ![](Blockchain_and_Smar_Contracts_-_Flow_Diagram.png)"
   ]
  },
  {
   "cell_type": "markdown",
   "metadata": {},
   "source": [
    "**What is a smart contract?**\n",
    "    \n",
    "    You can think of them as computer protocols used to facilitate, verify, or enforce the negotiation of a legal contract."
   ]
  },
  {
   "cell_type": "markdown",
   "metadata": {},
   "source": [
    "### Bitcoin & Ethereum Blockchain"
   ]
  },
  {
   "cell_type": "code",
   "execution_count": null,
   "metadata": {},
   "outputs": [],
   "source": []
  }
 ],
 "metadata": {
  "kernelspec": {
   "display_name": "Python 3",
   "language": "python",
   "name": "python3"
  },
  "language_info": {
   "codemirror_mode": {
    "name": "ipython",
    "version": 3
   },
   "file_extension": ".py",
   "mimetype": "text/x-python",
   "name": "python",
   "nbconvert_exporter": "python",
   "pygments_lexer": "ipython3",
   "version": "3.6.8"
  }
 },
 "nbformat": 4,
 "nbformat_minor": 2
}
