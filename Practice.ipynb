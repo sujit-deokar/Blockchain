{
 "cells": [
  {
   "cell_type": "code",
   "execution_count": 1,
   "metadata": {},
   "outputs": [],
   "source": [
    "import hashlib"
   ]
  },
  {
   "cell_type": "code",
   "execution_count": 2,
   "metadata": {},
   "outputs": [
    {
     "data": {
      "text/plain": [
       "'644bcc7e564373040999aac89e7622f3ca71fba1d972fd94a31c3bfbf24e3938'"
      ]
     },
     "execution_count": 2,
     "metadata": {},
     "output_type": "execute_result"
    }
   ],
   "source": [
    "m = hashlib.sha3_256()\n",
    "m.update(b'hello world')\n",
    "m.digest()\n",
    "m.hexdigest()"
   ]
  },
  {
   "cell_type": "code",
   "execution_count": 3,
   "metadata": {},
   "outputs": [
    {
     "data": {
      "text/plain": [
       "'f561f9c91982f8bc69756ddef52a93dcdd23431322888de2b7d7532f116915ba'"
      ]
     },
     "execution_count": 3,
     "metadata": {},
     "output_type": "execute_result"
    }
   ],
   "source": [
    "m = hashlib.sha3_256()\n",
    "m.update(b'hello world hello world hello world')\n",
    "m.digest()\n",
    "m.hexdigest()"
   ]
  },
  {
   "cell_type": "code",
   "execution_count": 6,
   "metadata": {},
   "outputs": [
    {
     "data": {
      "text/plain": [
       "'644bcc7e564373040999aac89e7622f3ca71fba1d972fd94a31c3bfbf24e3938'"
      ]
     },
     "execution_count": 6,
     "metadata": {},
     "output_type": "execute_result"
    }
   ],
   "source": [
    "n = hashlib.sha3_256()\n",
    "n.update(b'hello world')\n",
    "n.digest()\n",
    "n.hexdigest()"
   ]
  },
  {
   "cell_type": "code",
   "execution_count": 23,
   "metadata": {},
   "outputs": [],
   "source": [
    "block = {\n",
    "    'transactions':[\n",
    "        {\n",
    "            'from':'A',\n",
    "            'to':'B',\n",
    "            'amount':10\n",
    "        },\n",
    "        {\n",
    "            'from':'B',\n",
    "            'to':'C',\n",
    "            'amount':10\n",
    "        },\n",
    "        {\n",
    "            'from':'D',\n",
    "            'to':'E',\n",
    "            'amount':10,\n",
    "            'MESSAGE': 'Thanks'\n",
    "        }\n",
    "    ]\n",
    "}"
   ]
  },
  {
   "cell_type": "code",
   "execution_count": 15,
   "metadata": {},
   "outputs": [],
   "source": [
    "import pickle\n"
   ]
  },
  {
   "cell_type": "code",
   "execution_count": 16,
   "metadata": {},
   "outputs": [
    {
     "data": {
      "text/plain": [
       "'3a03aec51b420a7c002eeba3d5cc0385ee47e1b0d8232a2885a52bda5de8b38b'"
      ]
     },
     "execution_count": 16,
     "metadata": {},
     "output_type": "execute_result"
    }
   ],
   "source": [
    "o = hashlib.sha3_256()\n",
    "o.update(pickle.dumps(block))\n",
    "o.digest()\n",
    "o.hexdigest()"
   ]
  },
  {
   "cell_type": "code",
   "execution_count": 17,
   "metadata": {},
   "outputs": [],
   "source": [
    "block_fake = {\n",
    "    'transactions':[\n",
    "        {\n",
    "            'from':'A',\n",
    "            'to':'B',\n",
    "            'amount':1000\n",
    "        },\n",
    "        {\n",
    "            'from':'B',\n",
    "            'to':'C',\n",
    "            'amount':10\n",
    "        },\n",
    "        {\n",
    "            'from':'D',\n",
    "            'to':'E',\n",
    "            'amount':10,\n",
    "            'MESSAGE': 'Thanks'\n",
    "        }\n",
    "    ]\n",
    "}"
   ]
  },
  {
   "cell_type": "code",
   "execution_count": 18,
   "metadata": {},
   "outputs": [
    {
     "data": {
      "text/plain": [
       "'5c6227ab4a55f5f99884f9b4fcb9964ac6dd33a8f7c8834f244322d8b5a19a70'"
      ]
     },
     "execution_count": 18,
     "metadata": {},
     "output_type": "execute_result"
    }
   ],
   "source": [
    "o1 = hashlib.sha3_256()\n",
    "o1.update(pickle.dumps(block_fake))\n",
    "o1.digest()\n",
    "o1.hexdigest()"
   ]
  },
  {
   "cell_type": "code",
   "execution_count": 19,
   "metadata": {},
   "outputs": [
    {
     "data": {
      "text/plain": [
       "'3a03aec51b420a7c002eeba3d5cc0385ee47e1b0d8232a2885a52bda5de8b38b'"
      ]
     },
     "execution_count": 19,
     "metadata": {},
     "output_type": "execute_result"
    }
   ],
   "source": [
    "o.hexdigest()"
   ]
  },
  {
   "cell_type": "code",
   "execution_count": 21,
   "metadata": {},
   "outputs": [],
   "source": [
    "top_block = {\n",
    "    'transactions':[\n",
    "        {\n",
    "            'from':'A',\n",
    "            'to':'B',\n",
    "            'amount':10\n",
    "        },\n",
    "        {\n",
    "            'from':'B',\n",
    "            'to':'C',\n",
    "            'amount':10\n",
    "        },\n",
    "        {\n",
    "            'from':'D',\n",
    "            'to':'E',\n",
    "            'amount':10,\n",
    "            'MESSAGE': 'Thanks'\n",
    "        }\n",
    "    ],\n",
    "    'last_block':o.hexdigest(),\n",
    "    'nonce': 0\n",
    "}"
   ]
  },
  {
   "cell_type": "code",
   "execution_count": 22,
   "metadata": {},
   "outputs": [
    {
     "data": {
      "text/plain": [
       "{'transactions': [{'from': 'A', 'to': 'B', 'amount': 10},\n",
       "  {'from': 'B', 'to': 'C', 'amount': 10},\n",
       "  {'from': 'D', 'to': 'E', 'amount': 10, 'MESSAGE': 'Thanks'}],\n",
       " 'last_block': '3a03aec51b420a7c002eeba3d5cc0385ee47e1b0d8232a2885a52bda5de8b38b',\n",
       " 'nonce': 0}"
      ]
     },
     "execution_count": 22,
     "metadata": {},
     "output_type": "execute_result"
    }
   ],
   "source": [
    "top_block"
   ]
  },
  {
   "cell_type": "code",
   "execution_count": 24,
   "metadata": {},
   "outputs": [
    {
     "data": {
      "text/plain": [
       "'0db7f7cfd3b6f3a1ceeecb0706b027b0bdad2c0fbc36bb560e6b03812cae4438'"
      ]
     },
     "execution_count": 24,
     "metadata": {},
     "output_type": "execute_result"
    }
   ],
   "source": [
    "o2 = hashlib.sha3_256()\n",
    "o2.update(pickle.dumps(top_block))\n",
    "o2.digest()\n",
    "o2.hexdigest()"
   ]
  },
  {
   "cell_type": "code",
   "execution_count": null,
   "metadata": {},
   "outputs": [],
   "source": []
  }
 ],
 "metadata": {
  "kernelspec": {
   "display_name": "Python 3",
   "language": "python",
   "name": "python3"
  },
  "language_info": {
   "codemirror_mode": {
    "name": "ipython",
    "version": 3
   },
   "file_extension": ".py",
   "mimetype": "text/x-python",
   "name": "python",
   "nbconvert_exporter": "python",
   "pygments_lexer": "ipython3",
   "version": "3.6.8"
  }
 },
 "nbformat": 4,
 "nbformat_minor": 2
}
