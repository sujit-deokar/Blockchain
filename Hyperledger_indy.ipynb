{
 "cells": [
  {
   "cell_type": "markdown",
   "metadata": {},
   "source": [
    "# HyperLedger Indy"
   ]
  },
  {
   "cell_type": "markdown",
   "metadata": {},
   "source": [
    "### Introduction:"
   ]
  },
  {
   "cell_type": "markdown",
   "metadata": {},
   "source": [
    "<img src='./Images/HL-Indy.png'> ![](./Images/HL-Indy.png)"
   ]
  },
  {
   "cell_type": "markdown",
   "metadata": {},
   "source": [
    "The most common (and universally hated) system, that of user IDs and passwords, is fraught with problems. The resulting lack of certainty of who is on the other keyboard has led to the loss of billions from hacks, data breaches, identity theft, scams and more. Further, that same lack of certainty has made many types of business transactions on the Internet impossible - the risk is just too high."
   ]
  },
  {
   "cell_type": "markdown",
   "metadata": {},
   "source": [
    "Hyperledger Indy has been created to add an identity layer to the Internet using a mechanism that is easy to use, enables online trust, and enhances privacy. "
   ]
  },
  {
   "cell_type": "markdown",
   "metadata": {},
   "source": [
    "#### What is identity on Internet?\n",
    "\n",
    "The problems with identity on the Internet today come down to a single word - **trust**. When you are interacting online with someone, do you trust:\n",
    "\n",
    "\n",
    "            Is the person you are connecting with online who they say they are?\n",
    "\n",
    "            Are the claims they are making true?\n"
   ]
  },
  {
   "cell_type": "markdown",
   "metadata": {},
   "source": [
    "### Type of Blockchain\n",
    "\n",
    "    As we covered earlier in this course, there are several different types of blockchain systems characterized along two dimensions:\n",
    "        access and validation. \n",
    "   **Bitcoin and Ethereum** are public *permissionless networks* - anyone can access them (public) and anyone can participate in the validation process (permissionless).\n",
    "    \n",
    "   The Hyperledger frameworks **(Fabric, Sawtooth, Iroha and Burrow)** are (primarily) used for *private/permissioned networks*, limited to who can access them (private) and who can participate in the validation process (permissioned).\n",
    "    \n",
    "<img src = \"Images/PublicPermissionBlockchain.png\"> ![](Images/PublicPermissionBlockchain.png)\n",
    "\n",
    "### Blockchain Consensus Algorithm\n",
    "\n",
    "Hyperledger Indy uses a consensus algorithm to decide the contents of the next block added to the chain. Specifically, Indy uses **Plenum**, an implementation of the **Redundant Byzantine Fault Tolerance (RBFT) algorithm**. Plenum achieves similar performance to other BFT algorithms in ideal conditions (no faulty participants), but its performance degrades far less than other algorithms (on the order of 3% versus up to 78% for others) when faults occur in the network.\n",
    "\n",
    "Indy also implements a novel deployment of *Stewards - the nodes of the network that have permission to participate in the validation process.*\n",
    "\n",
    "<img src = \"Images/sovrinValidatorObserverNodes.png\"> ![](Images/sovrinValidatorObserverNodes.png)\n",
    "\n",
    "The **Sovrin Foundation** is a global non-profit that has deployed the Hyperledger Indy code on a (growing) number of nodes to create a running Public Permissioned Hyperledger Indy Blockchain instance. \n",
    "\n",
    "\n",
    "### Running Hyperledger Indy\n",
    "\n",
    "In this section, we’ll walk through an example of running an Indy ecosystem on Docker - an instance of the Indy public ledger and a series of Indy Agents that can message one another and share Verifiable Credentials. \n",
    "\n",
    "There are three types of transactions:\n",
    "    \n",
    "            1. DIDs\n",
    "    Those are the decentralized identifiers created by each participant in the demo (Alice, Faber, etc.). Look for entries with \"role\" and \"verkey\" in the data. You might even recognize the DIDs on the ledger with the DIDs on the demo web pages.\n",
    "    \n",
    "            2. Schema        \n",
    "    Entries that define the data elements (the claims) that will be part of a Verifiable Credential. Look for the name of the schema, such as \"Government-ID\".\n",
    "    \n",
    "            3. Credential definitions\n",
    "    Entries that are created by a credential issuer (like Faber) using a specific schema and (optionally, and not in this demo) a revocation registry. Credential definitions have a private key for each claim (and more), so look for entries with big long strings and references to schema claim names, e.g. \"tax_id\".\n",
    "    \n",
    "            4. Revocation registries\n",
    "    Entries that give an issuer a way to revoke issued credentials in a non-correlatable way. In this demo, we are not using revocation capabilities, so you won’t find any on the ledger.\n",
    "\n",
    "### The Hyperledger Indy GitHub Repos\n",
    "\n",
    "As of August 2018, there were nine official Hyperledger Indy GitHub repos. To check the current status of the repos that make up Hyperledger Indy, go to the Hyperledger Indy Project Wiki page. Of those nine, six are important to describe here:\n",
    "\n",
    "            indy-node\n",
    "            indy-sdk\n",
    "            indy-plenum, indy-crypto\n",
    "            indy-agent\n",
    "            indy-hipe.\n",
    "\n",
    "We will discuss them in more detail on the next pages.\n",
    "\n",
    "The other three are not (currently) particularly important to the general community.\n",
    "\n",
    "#### Indy - node\n",
    "\n",
    "Indy-node is (mostly) the Python code that implements the Indy public ledger - the set of permissioned instances (nodes) that accept and process public ledger read and write requests from Indy clients (usually called Agents).\n",
    "\n",
    "#### Indy - sdk\n",
    "\n",
    "The indy-sdk repo contains the code that allows a piece of software - an Agent - to interact with the public ledger and to keep track (in a Wallet - a specialized data store) of the keys and other identity-related data. The indy-sdk consists of one core component (written mostly in Rust) that compiles to a “c-callable” library (called libindy) and a number of language specific \"wrappers\" for the library. A “c-callable” library means that the library components can be called from the majority of languages, eliminating the need for an implementation in each language. The wrappers, available (as of September 2018) in Python, Java, C# (.NET) and Node.js, allow the creation of a Indy agents in each of those languages.\n",
    "\n",
    "As mentioned, the indy-sdk implements a Wallet that is used to store the Indy data collected by an identity on an Indy network - DIDs, private keys, Verifiable Credentials and more. The indy-sdk implements a default implementation of the Wallet, and is pluggable - meaning a capable developer can implement a replacement Wallet. The default Indy Wallet is based on the open source SQLite database.\n",
    "\n",
    "#### indy-hipe\n",
    "\n",
    "The indy-hipe repo is a set of \"Hyperledger Indy Project Enhancements\" (you know, HIPEs) - documents that describe Hyperledger Indy features, approaches to interoperability and other things that have or will make Indy better. It’s a great place to learn the details of some of the key features of Indy: the Wallet implementation, revocation and more.\n",
    "\n"
   ]
  },
  {
   "cell_type": "markdown",
   "metadata": {},
   "source": [
    "### General Information\n",
    "\n",
    "This doc is about supported transactions and their representation on the Ledger (that is, the internal one). If you are\n",
    "interested in the format of a client’s request (both write and read), then have a look at requests.\n",
    "    \n",
    "    • All transactions are stored in a distributed ledger (replicated on all nodes)\n",
    "    \n",
    "    • The ledger is based on a Merkle Tree\n",
    "    \n",
    "    • The ledger consists of two things:\n",
    "        – transactions log as a sequence of key-value pairs where key is a sequence number of the transaction and \n",
    "        value is the serialized transaction.\n",
    "        – merkle tree (where hashes for leaves and nodes are persisted)\n",
    "    \n",
    "    • Each transaction has a sequence number (no gaps) - keys in transactions log\n",
    "    \n",
    "    • So, this can be considered a blockchain where each block’s size is equal to 1\n",
    "    \n",
    "    • There are multiple ledgers by default:\n",
    "        – pool ledger: transactions related to pool/network configuration (listing all nodes, their keys and addresses)\n",
    "        – config ledger: transactions for pool configuration plus transactions related to pool upgrade\n",
    "        – domain ledger: all main domain and application specific transactions (including NYM transactions for DID)\n",
    "    \n",
    "    • All transactions are serialized to MsgPack format\n",
    "    \n",
    "    • All transactions (both transaction log and merkle tree hash stores) are stored in a LevelDB\n",
    "    \n",
    "    • One can use the read_ledger script to get transactions for a specified ledger in a readable format (JSON)\n",
    "    \n",
    "    • See roles and permissions for a list of roles and they type of transactions they can create.\n",
    "\n",
    "### Genesis Transactions\n",
    "\n",
    "As Indy is a public permissioned blockchain, each ledger may have a number of pre-defined transactions defining the\n",
    "initial pool and network.\n",
    "    \n",
    "    • pool genesis transactions define initial trusted nodes in the pool\n",
    "    \n",
    "    • domain genesis transactions define initial trusted trustees and stewards\n",
    "    \n",
    "### Common Structure\n",
    "\n",
    "Each transaction has the following structure consisting of metadata values (common for all transaction types) and\n",
    "transaction specific data:"
   ]
  },
  {
   "cell_type": "raw",
   "metadata": {},
   "source": [
    "{\n",
    "    \"ver\": <...>,\n",
    "    \"txn\": {\n",
    "        \"type\": <...>,\n",
    "        \"protocolVersion\": <...>,\n",
    "        \"data\": {\n",
    "            \"ver\": <...>,\n",
    "            <txn-specific fields>\n",
    "    },\n",
    "    \"metadata\": {\n",
    "        \"reqId\": <...>,\n",
    "        \"from\": <...>\n",
    "    },\n",
    "},\n",
    "    \"txnMetadata\": {\n",
    "        \"txnTime\": <...>,\n",
    "        \"seqNo\": <...>,\n",
    "        \"txnId\": <...>\n",
    "    },\n",
    "    \"reqSignature\": {\n",
    "        \"type\": <...>,\n",
    "        \"values\": [{\n",
    "            \"from\": <...>,\n",
    "            \"value\": <...>\n",
    "        }]\n",
    "    }\n",
    "}"
   ]
  },
  {
   "cell_type": "code",
   "execution_count": 1,
   "metadata": {},
   "outputs": [
    {
     "ename": "ModuleNotFoundError",
     "evalue": "No module named 'indy'",
     "output_type": "error",
     "traceback": [
      "\u001b[0;31m---------------------------------------------------------------------------\u001b[0m",
      "\u001b[0;31mModuleNotFoundError\u001b[0m                       Traceback (most recent call last)",
      "\u001b[0;32m<ipython-input-1-b280f422ac2e>\u001b[0m in \u001b[0;36m<module>\u001b[0;34m\u001b[0m\n\u001b[0;32m----> 1\u001b[0;31m \u001b[0;32mimport\u001b[0m \u001b[0mindy\u001b[0m\u001b[0;34m\u001b[0m\u001b[0;34m\u001b[0m\u001b[0m\n\u001b[0m",
      "\u001b[0;31mModuleNotFoundError\u001b[0m: No module named 'indy'"
     ]
    }
   ],
   "source": []
  },
  {
   "cell_type": "code",
   "execution_count": null,
   "metadata": {},
   "outputs": [],
   "source": []
  }
 ],
 "metadata": {
  "kernelspec": {
   "display_name": "Python 3",
   "language": "python",
   "name": "python3"
  },
  "language_info": {
   "codemirror_mode": {
    "name": "ipython",
    "version": 3
   },
   "file_extension": ".py",
   "mimetype": "text/x-python",
   "name": "python",
   "nbconvert_exporter": "python",
   "pygments_lexer": "ipython3",
   "version": "3.6.8"
  }
 },
 "nbformat": 4,
 "nbformat_minor": 2
}
